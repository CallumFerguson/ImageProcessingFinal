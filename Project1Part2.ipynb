{
 "cells": [
  {
   "cell_type": "code",
   "execution_count": 1,
   "metadata": {},
   "outputs": [],
   "source": [
    "import torch\n",
    "import torch.nn as nn\n",
    "import torch.nn.functional as F\n",
    "from torch.autograd import Variable\n",
    "from torch.autograd import Function\n",
    "import torch.optim as optim\n",
    "import numpy as np\n",
    "import matplotlib\n",
    "import matplotlib.pyplot as plt\n",
    "import torchvision\n",
    "import seaborn as sn\n",
    "import pandas as pd\n",
    "\n",
    "torch.set_printoptions(precision=None, threshold=None, edgeitems=None, linewidth=None, profile=None, sci_mode=False)"
   ]
  },
  {
   "cell_type": "code",
   "execution_count": 2,
   "metadata": {},
   "outputs": [
    {
     "name": "stdout",
     "output_type": "stream",
     "text": [
      "cuda:0\n"
     ]
    }
   ],
   "source": [
    "if torch.cuda.is_available():  \n",
    "    device = \"cuda:0\"\n",
    "else:  \n",
    "    device = \"cpu\"\n",
    "device = torch.device(device)\n",
    "print(device)"
   ]
  },
  {
   "cell_type": "code",
   "execution_count": 3,
   "metadata": {},
   "outputs": [
    {
     "name": "stdout",
     "output_type": "stream",
     "text": [
      "12873 training pictures, 2145 test pictures\n"
     ]
    },
    {
     "name": "stderr",
     "output_type": "stream",
     "text": [
      "C:\\Users\\Callum\\anaconda3\\envs\\CI\\lib\\site-packages\\torchvision\\datasets\\mnist.py:45: UserWarning: train_labels has been renamed targets\n",
      "  warnings.warn(\"train_labels has been renamed targets\")\n",
      "<ipython-input-3-ec871c0f4a3e>:22: UserWarning: This overload of nonzero is deprecated:\n",
      "\tnonzero()\n",
      "Consider using one of the following signatures instead:\n",
      "\tnonzero(*, bool as_tuple) (Triggered internally at  ..\\torch\\csrc\\utils\\python_arg_parser.cpp:766.)\n",
      "  class_indices = (MNIST_train.train_labels == c).nonzero()\n"
     ]
    }
   ],
   "source": [
    "torch.manual_seed(0)\n",
    "\n",
    "dataset_location = 'C:\\\\Users\\\\Callum\\\\Documents\\\\Datasets'\n",
    "\n",
    "transform = torchvision.transforms.Compose([\n",
    "    torchvision.transforms.ToTensor()\n",
    "])\n",
    "\n",
    "MNIST_train = torchvision.datasets.MNIST(dataset_location, train=True, transform=transform,\n",
    "                           target_transform=None, download=True)\n",
    "\n",
    "MNIST_test = torchvision.datasets.MNIST(dataset_location, train=False, transform=transform,\n",
    "                           target_transform=None, download=True)\n",
    "\n",
    "class1 = 1\n",
    "class2 = 3\n",
    "\n",
    "classes = [class1, class2]\n",
    "\n",
    "indices_train = torch.tensor([], dtype=torch.uint8)\n",
    "for c in classes:\n",
    "    class_indices = (MNIST_train.train_labels == c).nonzero()\n",
    "    class_indices = class_indices.reshape([class_indices.size(0)])\n",
    "    indices_train = torch.cat((indices_train, class_indices))\n",
    "\n",
    "indices_test = torch.tensor([], dtype=torch.uint8)\n",
    "for c in classes:\n",
    "    class_indices = (MNIST_test.train_labels == c).nonzero()\n",
    "    class_indices = class_indices.reshape([class_indices.size(0)])\n",
    "    indices_test = torch.cat((indices_test, class_indices))\n",
    "    \n",
    "train_data = torch.utils.data.Subset(MNIST_train, indices_train)\n",
    "test_data = torch.utils.data.Subset(MNIST_test, indices_test)\n",
    "\n",
    "# train_data = torch.utils.data.Subset(train_data, [1, 9001])\n",
    "\n",
    "print('{} training pictures, {} test pictures'.format(len(train_data), len(test_data)))"
   ]
  },
  {
   "cell_type": "code",
   "execution_count": 4,
   "metadata": {},
   "outputs": [
    {
     "data": {
      "image/png": "[encoded data removed]",
      "text/plain": [
       "<Figure size 1152x144 with 8 Axes>"
      ]
     },
     "metadata": {
      "needs_background": "light"
     },
     "output_type": "display_data"
    }
   ],
   "source": [
    "batch_size = 64\n",
    "num_threads = 8\n",
    "\n",
    "train_loader = torch.utils.data.DataLoader(train_data, batch_size=batch_size, shuffle=True, num_workers=num_threads)\n",
    "test_loader = torch.utils.data.DataLoader(test_data, batch_size=batch_size, shuffle=True, num_workers=num_threads)\n",
    "\n",
    "(data, labels) = next(iter(train_loader))\n",
    "\n",
    "f, axarr = plt.subplots(1, 8, figsize=(16, 2))\n",
    "for i in range(min(8, data.size(0))):\n",
    "    axarr[i].imshow(data[i][0], cmap='gray')\n",
    "    axarr[i].set_title('{}'.format(labels[i]))\n",
    "    axarr[i].axis('off')"
   ]
  },
  {
   "cell_type": "code",
   "execution_count": 5,
   "metadata": {},
   "outputs": [
    {
     "name": "stdout",
     "output_type": "stream",
     "text": [
      "Network:\n",
      "epoch 1 done\n",
      "2127 right 18 wrong 99% accuracy\n"
     ]
    }
   ],
   "source": [
    "class MLP(nn.Module):\n",
    "    def __init__(self, input_size, hidden_size, output_size):\n",
    "        super(MLP, self).__init__()\n",
    "        self.linear1 = nn.Linear(input_size, hidden_size)\n",
    "        self.linear2 = nn.Linear(hidden_size, hidden_size)\n",
    "        self.linear3 = nn.Linear(hidden_size, output_size)\n",
    "    def forward(self, y0):\n",
    "        y1 = F.relu(self.linear1(y0))\n",
    "        y2 = F.relu(self.linear2(y1))\n",
    "        y3 = torch.sigmoid(self.linear3(y2))\n",
    "        return y3\n",
    "\n",
    "#equivalent to the following except the pytroch implementation works on the GPU:\n",
    "# def criterion(out, label):\n",
    "#     return ((label - output)**2).mean()\n",
    "criterion = nn.MSELoss()\n",
    "\n",
    "#0.08\n",
    "learning_rate = 0.05\n",
    "\n",
    "network = MLP(28 * 28, 10, 1).to(device)\n",
    "optimizer = optim.SGD(network.parameters(), lr=learning_rate, momentum=0.3)\n",
    "\n",
    "graph_loss = []\n",
    "graph_accuracy = []\n",
    "graph_confidence = []\n",
    "\n",
    "graph_epoch = []\n",
    "num_batches = len(train_data) /float(batch_size)\n",
    "\n",
    "confusion_matrix = [[0, 0], [0, 0]]\n",
    "\n",
    "def evaluate(print_accuracy, print_images):\n",
    "    with torch.no_grad():\n",
    "        right = 0\n",
    "        wrong = 0\n",
    "        for batch_num, (data, labels) in enumerate(test_loader):\n",
    "\n",
    "            data_input = data.to(device)\n",
    "            data_input = data_input.reshape([data.size()[0], 28 * 28])\n",
    "\n",
    "            labels = labels.to(device)\n",
    "            labels[labels == class1] = 0\n",
    "            labels[labels == class2] = 1\n",
    "\n",
    "            outputs = network(data_input)\n",
    "            outputs = outputs.reshape([outputs.size(0)])\n",
    "\n",
    "            wrong_in_batch = len((outputs.round() - labels.float()).nonzero())\n",
    "            \n",
    "            right += data.size(0) - wrong_in_batch\n",
    "            wrong += wrong_in_batch\n",
    "            \n",
    "            outputs_rounded = outputs.round()\n",
    "            \n",
    "            for i in range(labels.size(0)):\n",
    "                if labels[i] < 0.5 and outputs_rounded[i] < 0.5:\n",
    "                    confusion_matrix[0][0] += 1\n",
    "                if labels[i] > 0.5 and outputs_rounded[i] > 0.5:\n",
    "                    confusion_matrix[1][1] += 1\n",
    "                if labels[i] < 0.5 and outputs_rounded[i] > 0.5:\n",
    "                    confusion_matrix[0][1] += 1\n",
    "                if labels[i] > 0.5 and outputs_rounded[i] < 0.5:\n",
    "                    confusion_matrix[1][0] += 1\n",
    "\n",
    "            if batch_num == 0 and print_images:\n",
    "                # P=predicted, A=actual\n",
    "                f, axarr = plt.subplots(1, 8, figsize=(16, 2))\n",
    "                for i in range(8):\n",
    "                    axarr[i].imshow(data[i][0], cmap='gray')\n",
    "                    axarr[i].set_title('P: {} A: {}'.format(class1 if outputs.round()[i] == 0 else class2, class1 if labels[i] == 0 else class2))\n",
    "                    axarr[i].axis('off')\n",
    "                if not print_accuracy:\n",
    "                    break\n",
    "\n",
    "        if print_accuracy:\n",
    "            print('{} right {} wrong {:.0f}% accuracy'.format(right, wrong, right / (right + wrong) * 100.0))\n",
    "\n",
    "def trainNetwork():\n",
    "    for epoch in range(1):\n",
    "        for batch_num, (data, labels) in enumerate(train_loader):\n",
    "            \n",
    "            data = data.to(device)\n",
    "            data = data.reshape([data.size()[0], 28 * 28])\n",
    "            \n",
    "#             for i in range(10000):\n",
    "            \n",
    "            optimizer.zero_grad()\n",
    "\n",
    "            outputs = network(data)\n",
    "            outputs = outputs.reshape([outputs.size(0)])\n",
    "\n",
    "            labels = labels.to(device)\n",
    "            labels[labels == class1] = 0\n",
    "            labels[labels == class2] = 1\n",
    "            labels = labels.float()\n",
    "\n",
    "            outputs_rounded = outputs.round()\n",
    "\n",
    "            wrong_in_batch = len((outputs_rounded - labels).nonzero())\n",
    "\n",
    "            loss = criterion(outputs, labels)\n",
    "            loss.backward()\n",
    "\n",
    "            graph_loss.append(loss.item())\n",
    "            graph_accuracy.append((labels.size(0) - wrong_in_batch) / labels.size(0))\n",
    "            graph_epoch.append((batch_num / num_batches) + epoch)\n",
    "            graph_confidence.append(torch.mean(torch.abs(outputs - 0.5) / 0.5))\n",
    "\n",
    "            optimizer.step()\n",
    "            \n",
    "        print('epoch {} done'.format(epoch + 1))\n",
    "        evaluate(True, False)\n",
    "\n",
    "print(\"Network:\")\n",
    "trainNetwork()"
   ]
  },
  {
   "cell_type": "code",
   "execution_count": 6,
   "metadata": {},
   "outputs": [],
   "source": [
    "# evaluate(True, True)"
   ]
  },
  {
   "cell_type": "code",
   "execution_count": 7,
   "metadata": {},
   "outputs": [
    {
     "data": {
      "image/png": "[encoded data removed]",
      "text/plain": [
       "<Figure size 432x288 with 1 Axes>"
      ]
     },
     "metadata": {
      "needs_background": "light"
     },
     "output_type": "display_data"
    }
   ],
   "source": [
    "def test(x):\n",
    "    x = 0\n",
    "\n",
    "with torch.no_grad():\n",
    "    w1 = network.linear1.weight.clone()\n",
    "    w1 = w1.reshape([w1.size(0), 28, 28])\n",
    "    \n",
    "    w = w1[0]\n",
    "    \n",
    "    w -= torch.min(w)\n",
    "    w /= torch.max(w)\n",
    "\n",
    "    plt.imshow(w.cpu(), cmap=\"gray\")"
   ]
  },
  {
   "cell_type": "code",
   "execution_count": 8,
   "metadata": {},
   "outputs": [
    {
     "data": {
      "text/plain": [
       "<matplotlib.legend.Legend at 0x25b2476d400>"
      ]
     },
     "execution_count": 8,
     "metadata": {},
     "output_type": "execute_result"
    },
    {
     "data": {
      "image/png": "[encoded data removed]",
      "text/plain": [
       "<Figure size 432x288 with 1 Axes>"
      ]
     },
     "metadata": {
      "needs_background": "light"
     },
     "output_type": "display_data"
    }
   ],
   "source": [
    "plt.xlabel(\"Epoch\")\n",
    "\n",
    "plt.plot(graph_epoch, graph_loss, label=\"Loss\")\n",
    "plt.plot(graph_epoch, graph_accuracy, label=\"Accuracy\")\n",
    "plt.plot(graph_epoch, graph_confidence, label=\"Confidence\")\n",
    "\n",
    "plt.legend()"
   ]
  },
  {
   "cell_type": "code",
   "execution_count": 9,
   "metadata": {},
   "outputs": [
    {
     "name": "stdout",
     "output_type": "stream",
     "text": [
      "[[1128, 7], [11, 999]]\n"
     ]
    },
    {
     "data": {
      "text/plain": [
       "<AxesSubplot:>"
      ]
     },
     "execution_count": 9,
     "metadata": {},
     "output_type": "execute_result"
    },
    {
     "data": {
      "image/png": "[encoded data removed]",
      "text/plain": [
       "<Figure size 720x504 with 2 Axes>"
      ]
     },
     "metadata": {
      "needs_background": "light"
     },
     "output_type": "display_data"
    }
   ],
   "source": [
    "print(confusion_matrix)\n",
    "df_cm = pd.DataFrame(confusion_matrix, [\"Actual {}\".format(class1), \"Actual {}\".format(class2)], [\"Predicted {}\".format(class1), \"Predicted {}\".format(class2)])\n",
    "pd.set_option('display.float_format', lambda x: '%.5f' % x)\n",
    "plt.figure(figsize = (10,7))\n",
    "sn.heatmap(df_cm, annot=True)"
   ]
  }
 ],
 "metadata": {
  "kernelspec": {
   "display_name": "Python 3",
   "language": "python",
   "name": "python3"
  },
  "language_info": {
   "codemirror_mode": {
    "name": "ipython",
    "version": 3
   },
   "file_extension": ".py",
   "mimetype": "text/x-python",
   "name": "python",
   "nbconvert_exporter": "python",
   "pygments_lexer": "ipython3",
   "version": "3.8.5"
  }
 },
 "nbformat": 4,
 "nbformat_minor": 4
}

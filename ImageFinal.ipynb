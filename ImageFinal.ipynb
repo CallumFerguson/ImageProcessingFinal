{
 "cells": [
  {
   "cell_type": "code",
   "execution_count": 1,
   "metadata": {},
   "outputs": [],
   "source": [
    "import torch\n",
    "import torch.nn as nn\n",
    "import torch.nn.functional as F\n",
    "from torch.autograd import Variable\n",
    "from torch.autograd import Function\n",
    "import torch.optim as optim\n",
    "import numpy as np\n",
    "import matplotlib\n",
    "import matplotlib.pyplot as plt\n",
    "import torchvision\n",
    "import time\n",
    "\n",
    "torch.set_printoptions(precision=None, threshold=None, edgeitems=None, linewidth=None, profile=None, sci_mode=False)"
   ]
  },
  {
   "cell_type": "code",
   "execution_count": 2,
   "metadata": {},
   "outputs": [
    {
     "name": "stdout",
     "output_type": "stream",
     "text": [
      "cuda:0\n"
     ]
    }
   ],
   "source": [
    "if torch.cuda.is_available():  \n",
    "    device = \"cuda:0\"\n",
    "else:  \n",
    "    device = \"cpu\"\n",
    "device = torch.device(device)\n",
    "print(device)"
   ]
  },
  {
   "cell_type": "code",
   "execution_count": 3,
   "metadata": {},
   "outputs": [
    {
     "name": "stdout",
     "output_type": "stream",
     "text": [
      "12873 training pictures, 2145 test pictures\n"
     ]
    },
    {
     "name": "stderr",
     "output_type": "stream",
     "text": [
      "C:\\Users\\Callum\\anaconda3\\envs\\CI\\lib\\site-packages\\torchvision\\datasets\\mnist.py:45: UserWarning: train_labels has been renamed targets\n",
      "  warnings.warn(\"train_labels has been renamed targets\")\n",
      "<ipython-input-3-ec871c0f4a3e>:22: UserWarning: This overload of nonzero is deprecated:\n",
      "\tnonzero()\n",
      "Consider using one of the following signatures instead:\n",
      "\tnonzero(*, bool as_tuple) (Triggered internally at  ..\\torch\\csrc\\utils\\python_arg_parser.cpp:766.)\n",
      "  class_indices = (MNIST_train.train_labels == c).nonzero()\n"
     ]
    }
   ],
   "source": [
    "torch.manual_seed(0)\n",
    "\n",
    "dataset_location = 'C:\\\\Users\\\\Callum\\\\Documents\\\\Datasets'\n",
    "\n",
    "transform = torchvision.transforms.Compose([\n",
    "    torchvision.transforms.ToTensor()\n",
    "])\n",
    "\n",
    "MNIST_train = torchvision.datasets.MNIST(dataset_location, train=True, transform=transform,\n",
    "                           target_transform=None, download=True)\n",
    "\n",
    "MNIST_test = torchvision.datasets.MNIST(dataset_location, train=False, transform=transform,\n",
    "                           target_transform=None, download=True)\n",
    "\n",
    "class1 = 1\n",
    "class2 = 3\n",
    "\n",
    "classes = [class1, class2]\n",
    "\n",
    "indices_train = torch.tensor([], dtype=torch.uint8)\n",
    "for c in classes:\n",
    "    class_indices = (MNIST_train.train_labels == c).nonzero()\n",
    "    class_indices = class_indices.reshape([class_indices.size(0)])\n",
    "    indices_train = torch.cat((indices_train, class_indices))\n",
    "\n",
    "indices_test = torch.tensor([], dtype=torch.uint8)\n",
    "for c in classes:\n",
    "    class_indices = (MNIST_test.train_labels == c).nonzero()\n",
    "    class_indices = class_indices.reshape([class_indices.size(0)])\n",
    "    indices_test = torch.cat((indices_test, class_indices))\n",
    "    \n",
    "train_data = torch.utils.data.Subset(MNIST_train, indices_train)\n",
    "test_data = torch.utils.data.Subset(MNIST_test, indices_test)\n",
    "\n",
    "# train_data = torch.utils.data.Subset(train_data, [1, 9001])\n",
    "\n",
    "print('{} training pictures, {} test pictures'.format(len(train_data), len(test_data)))"
   ]
  },
  {
   "cell_type": "code",
   "execution_count": 4,
   "metadata": {},
   "outputs": [
    {
     "name": "stdout",
     "output_type": "stream",
     "text": [
      "torch.Size([64, 1, 28, 28])\n",
      "torch.Size([64])\n"
     ]
    },
    {
     "data": {
      "image/png": "[encoded data removed]",
      "text/plain": [
       "<Figure size 1152x144 with 8 Axes>"
      ]
     },
     "metadata": {
      "needs_background": "light"
     },
     "output_type": "display_data"
    }
   ],
   "source": [
    "batch_size = 64\n",
    "num_threads = 8\n",
    "\n",
    "train_loader = torch.utils.data.DataLoader(train_data, batch_size=batch_size, shuffle=True, num_workers=num_threads)\n",
    "test_loader = torch.utils.data.DataLoader(test_data, batch_size=batch_size, shuffle=True, num_workers=num_threads)\n",
    "\n",
    "(data, labels) = next(iter(train_loader))\n",
    "\n",
    "img_size_flat = data.size(2)**2\n",
    "\n",
    "print(data.size())\n",
    "print(labels.size())\n",
    "\n",
    "f, axarr = plt.subplots(1, 8, figsize=(16, 2))\n",
    "for i in range(min(8, data.size(0))):\n",
    "    axarr[i].imshow(data[i][0], cmap='gray')\n",
    "    axarr[i].set_title('{}'.format(labels[i]))\n",
    "    axarr[i].axis('off')"
   ]
  },
  {
   "cell_type": "code",
   "execution_count": 5,
   "metadata": {
    "scrolled": true
   },
   "outputs": [
    {
     "name": "stdout",
     "output_type": "stream",
     "text": [
      "2135 right 10 wrong 100% accuracy\n",
      "2137 right 8 wrong 100% accuracy\n",
      "2137 right 8 wrong 100% accuracy\n",
      "2138 right 7 wrong 100% accuracy\n",
      "2138 right 7 wrong 100% accuracy\n"
     ]
    }
   ],
   "source": [
    "input_size = img_size_flat\n",
    "\n",
    "scale = 0.1\n",
    "\n",
    "w1 = torch.randn([input_size, 1], device=device) * scale\n",
    "b1 = torch.randn([1], device=device) * scale\n",
    "\n",
    "# w2 = torch.randn([hidden_layer_size, output_size], device=device) * scale\n",
    "# b2 = torch.randn([output_size], device=device) * scale\n",
    "\n",
    "activation_function = nn.Sigmoid()\n",
    "\n",
    "def activation_function_derivative(x):\n",
    "    s = activation_function(x)\n",
    "    return s * (1 - s)\n",
    "\n",
    "learning_rate = 0.01\n",
    "\n",
    "def evaluate():\n",
    "    right = 0\n",
    "    wrong = 0\n",
    "    for batch_num, (data, labels) in enumerate(test_loader):\n",
    "        batch = data.to(device)\n",
    "        batch = batch.reshape([batch.size()[0], img_size_flat])\n",
    "\n",
    "        labels = labels.to(device)\n",
    "        labels[labels == class1] = 0\n",
    "        labels[labels == class2] = 1\n",
    "        labels = labels.float()\n",
    "        labels = labels.reshape([labels.size(0), 1])\n",
    "\n",
    "        y0 = batch\n",
    "        d = labels\n",
    "\n",
    "        v1 = torch.mm(y0, w1) + b1\n",
    "        y1 = activation_function(v1)\n",
    "        \n",
    "        outputs = y1\n",
    "\n",
    "        wrong_in_batch = len((outputs.round() - labels.float()).nonzero())\n",
    "        \n",
    "        wrong += wrong_in_batch\n",
    "        right += batch.size(0) - wrong_in_batch\n",
    "    \n",
    "    print('{} right {} wrong {:.0f}% accuracy'.format(right, wrong, right / (right + wrong) * 100.0))\n",
    "\n",
    "for epoch in range(5):\n",
    "    for batch_num, (data, labels) in enumerate(train_loader):\n",
    "        batch = data.to(device)\n",
    "        batch = batch.reshape([batch.size()[0], img_size_flat])\n",
    "\n",
    "        #https://stackoverflow.com/questions/29831489/convert-array-of-indices-to-1-hot-encoded-numpy-array\n",
    "#         one_hot_labels = torch.zeros((labels.size()[0], 10), device=device)\n",
    "#         one_hot_labels[torch.arange(labels.size()[0]), labels] = 1\n",
    "\n",
    "        labels = labels.to(device)\n",
    "        labels[labels == class1] = 0\n",
    "        labels[labels == class2] = 1\n",
    "        labels = labels.float()\n",
    "        labels = labels.reshape([labels.size(0), 1])\n",
    "\n",
    "        y0 = batch\n",
    "        d = labels\n",
    "\n",
    "        v1 = torch.mm(y0, w1) + b1\n",
    "        y1 = activation_function(v1)\n",
    "        \n",
    "#         v2 = torch.mm(y1, w2) + b2\n",
    "#         y2 = activation_function(v2)\n",
    "        \n",
    "        e = d - y1\n",
    "        E = torch.mean(e**2)\n",
    "\n",
    "        delta1 = e * activation_function_derivative(v1)\n",
    "#         delta1 = activation_function_derivative(v1) * torch.mm(delta2, w2.T)\n",
    "        \n",
    "        w1 -= learning_rate * torch.mm(y0.T, -delta1)\n",
    "        b1 -= learning_rate * torch.mean(-delta1, 0)\n",
    "\n",
    "#         w2 -= learning_rate * torch.mm(y1.T, -delta2)\n",
    "#         b2 -= learning_rate * torch.mean(-delta2, 0)\n",
    "        \n",
    "    evaluate()"
   ]
  },
  {
   "cell_type": "code",
   "execution_count": 6,
   "metadata": {},
   "outputs": [
    {
     "data": {
      "text/plain": [
       "<matplotlib.image.AxesImage at 0x2d02513cc70>"
      ]
     },
     "execution_count": 6,
     "metadata": {},
     "output_type": "execute_result"
    },
    {
     "data": {
      "image/png": "[encoded data removed]",
      "text/plain": [
       "<Figure size 432x288 with 1 Axes>"
      ]
     },
     "metadata": {
      "needs_background": "light"
     },
     "output_type": "display_data"
    }
   ],
   "source": [
    "plt.imshow(w1.reshape([28, 28]).cpu(), cmap=\"gray\")"
   ]
  },
  {
   "cell_type": "code",
   "execution_count": 10,
   "metadata": {},
   "outputs": [
    {
     "name": "stdout",
     "output_type": "stream",
     "text": [
      "tensor(0.9997, device='cuda:0')\n",
      "tensor(0.9995, device='cuda:0')\n",
      "tensor(0.9986, device='cuda:0')\n",
      "tensor(0.0005, device='cuda:0')\n",
      "tensor(0.0001, device='cuda:0')\n",
      "tensor(    0.0001, device='cuda:0')\n",
      "tensor(    0.0001, device='cuda:0')\n",
      "tensor(    0.0000, device='cuda:0')\n",
      "tensor(    0.0000, device='cuda:0')\n",
      "tensor(    0.0000, device='cuda:0')\n"
     ]
    },
    {
     "data": {
      "image/png": "[encoded data removed]",
      "text/plain": [
       "<Figure size 432x288 with 1 Axes>"
      ]
     },
     "metadata": {
      "needs_background": "light"
     },
     "output_type": "display_data"
    },
    {
     "data": {
      "image/png": "[encoded data removed]",
      "text/plain": [
       "<Figure size 432x288 with 1 Axes>"
      ]
     },
     "metadata": {
      "needs_background": "light"
     },
     "output_type": "display_data"
    },
    {
     "data": {
      "image/png": "[encoded data removed]",
      "text/plain": [
       "<Figure size 432x288 with 1 Axes>"
      ]
     },
     "metadata": {
      "needs_background": "light"
     },
     "output_type": "display_data"
    },
    {
     "data": {
      "image/png": "[encoded data removed]",
      "text/plain": [
       "<Figure size 432x288 with 1 Axes>"
      ]
     },
     "metadata": {
      "needs_background": "light"
     },
     "output_type": "display_data"
    },
    {
     "data": {
      "image/png": "[encoded data removed]",
      "text/plain": [
       "<Figure size 432x288 with 1 Axes>"
      ]
     },
     "metadata": {
      "needs_background": "light"
     },
     "output_type": "display_data"
    },
    {
     "data": {
      "image/png": "[encoded data removed]",
      "text/plain": [
       "<Figure size 432x288 with 1 Axes>"
      ]
     },
     "metadata": {
      "needs_background": "light"
     },
     "output_type": "display_data"
    },
    {
     "data": {
      "image/png": "[encoded data removed]",
      "text/plain": [
       "<Figure size 432x288 with 1 Axes>"
      ]
     },
     "metadata": {
      "needs_background": "light"
     },
     "output_type": "display_data"
    },
    {
     "data": {
      "image/png": "[encoded data removed]",
      "text/plain": [
       "<Figure size 432x288 with 1 Axes>"
      ]
     },
     "metadata": {
      "needs_background": "light"
     },
     "output_type": "display_data"
    },
    {
     "data": {
      "image/png": "[encoded data removed]",
      "text/plain": [
       "<Figure size 432x288 with 1 Axes>"
      ]
     },
     "metadata": {
      "needs_background": "light"
     },
     "output_type": "display_data"
    },
    {
     "data": {
      "image/png": "[encoded data removed]",
      "text/plain": [
       "<Figure size 432x288 with 1 Axes>"
      ]
     },
     "metadata": {
      "needs_background": "light"
     },
     "output_type": "display_data"
    },
    {
     "data": {
      "image/png": "[encoded data removed]",
      "text/plain": [
       "<Figure size 432x288 with 1 Axes>"
      ]
     },
     "metadata": {
      "needs_background": "light"
     },
     "output_type": "display_data"
    }
   ],
   "source": [
    "rand_img = data[0][0].reshape([1, img_size_flat])\n",
    "rand_img = rand_img.to(device)\n",
    "\n",
    "# rand_img = torch.randn([1, img_size_flat], device=device) * 0.01 + 0.5\n",
    "# rand_img = torch.zeros([1, img_size_flat], device=device)\n",
    "\n",
    "plt.figure()\n",
    "plt.imshow(rand_img.reshape([28, 28]).cpu(), cmap=\"gray\", vmin=0, vmax=1)\n",
    "\n",
    "learning_rate = 1\n",
    "\n",
    "for epoch in range(1000):\n",
    "    \n",
    "    y0 = rand_img\n",
    "    d = 0 #class2\n",
    "    \n",
    "    v1 = torch.mm(y0, w1) + b1\n",
    "    y1 = activation_function(v1)\n",
    "\n",
    "    e = d - y1\n",
    "    E = torch.mean(e**2)\n",
    "    \n",
    "    rand_img += learning_rate * 2 * e * activation_function_derivative(v1) * w1.T\n",
    "    \n",
    "    if epoch % 100 == 0:\n",
    "        print(E)\n",
    "        plt.figure()\n",
    "        plt.imshow(rand_img.reshape([28, 28]).cpu(), cmap=\"gray\", vmin=0, vmax=1)"
   ]
  },
  {
   "cell_type": "code",
   "execution_count": 8,
   "metadata": {},
   "outputs": [
    {
     "name": "stdout",
     "output_type": "stream",
     "text": [
      "tensor([[0.4913, 0.5092, 0.4966, 0.4964, 0.4842, 0.4959, 0.4997, 0.4937, 0.4996,\n",
      "         0.5025]])\n"
     ]
    }
   ],
   "source": [
    "t = torch.randn([1, 10]) * 0.01 + 0.5\n",
    "\n",
    "print(t)"
   ]
  },
  {
   "cell_type": "code",
   "execution_count": 9,
   "metadata": {},
   "outputs": [
    {
     "name": "stdout",
     "output_type": "stream",
     "text": [
      "torch.Size([9, 1, 28, 28])\n"
     ]
    },
    {
     "data": {
      "image/png": "[encoded data removed]",
      "text/plain": [
       "<Figure size 432x288 with 1 Axes>"
      ]
     },
     "metadata": {
      "needs_background": "light"
     },
     "output_type": "display_data"
    }
   ],
   "source": [
    "plt.imshow(data[0][0])\n",
    "print(data.size())"
   ]
  }
 ],
 "metadata": {
  "kernelspec": {
   "display_name": "Python 3",
   "language": "python",
   "name": "python3"
  },
  "language_info": {
   "codemirror_mode": {
    "name": "ipython",
    "version": 3
   },
   "file_extension": ".py",
   "mimetype": "text/x-python",
   "name": "python",
   "nbconvert_exporter": "python",
   "pygments_lexer": "ipython3",
   "version": "3.8.5"
  }
 },
 "nbformat": 4,
 "nbformat_minor": 4
}
